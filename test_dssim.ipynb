{
 "cells": [
  {
   "cell_type": "code",
   "execution_count": 5,
   "metadata": {},
   "outputs": [],
   "source": [
    "import torch\n",
    "import torch.nn as nn\n",
    "from pytorch_msssim import ssim\n",
    "from ignite.metrics import SSIM\n",
    "import torch.optim as optim\n",
    "device = torch.device('cuda') if torch.cuda.is_available() else torch.device('cpu')\n"
   ]
  },
  {
   "cell_type": "code",
   "execution_count": 6,
   "metadata": {},
   "outputs": [
    {
     "name": "stderr",
     "output_type": "stream",
     "text": [
      "/mnt/hdd3tb/Users/minhnqn/.conda/envs/py310/lib/python3.10/site-packages/torchvision/transforms/functional.py:1603: UserWarning: The default value of the antialias parameter of all the resizing transforms (Resize(), RandomResizedCrop(), etc.) will change from None to True in v0.17, in order to be consistent across the PIL and Tensor backends. To suppress this warning, directly pass antialias=True (recommended, future default), antialias=None (current default, which means False for Tensors and True for PIL), or antialias=False (only works on Tensors - PIL will still use antialiasing). This also applies if you are using the inference transforms from the models weights: update the call to weights.transforms(antialias=True).\n",
      "  warnings.warn(\n"
     ]
    },
    {
     "data": {
      "text/plain": [
       "tensor(0.4595, device='cuda:0')"
      ]
     },
     "execution_count": 6,
     "metadata": {},
     "output_type": "execute_result"
    }
   ],
   "source": [
    "from PIL import Image\n",
    "from torchvision import transforms as T\n",
    "\n",
    "image = Image.open('bus.jpg').convert('RGB')\n",
    "\n",
    "from torchvision import transforms as T\n",
    "\n",
    "transform = T.Compose([T.ToTensor(), T.Resize((224, 224))])\n",
    "image = transform(image).to(device)[None,:,:,:]\n",
    "image.mean()"
   ]
  },
  {
   "cell_type": "code",
   "execution_count": null,
   "metadata": {},
   "outputs": [],
   "source": [
    "class GcBlock(nn.Module):\n",
    "    def __init__(self, c = 3):\n",
    "        super(GcBlock, self).__init__()\n",
    "        # Định nghĩa các lớp convolution và pooling\n",
    "        self.Wk = nn.Conv2d(in_channels=c, out_channels=1, kernel_size=1, stride=1, padding=0)\n",
    "        self.softmax2d = nn.Softmax2d()\n",
    "        self.Wv1 = nn.Conv2d(in_channels=c, out_channels=c//2, kernel_size=1, stride=1)\n",
    "        self.layer_norm = nn.LayerNorm([c//2, 1, 1]) \n",
    "        self.relu = nn.ReLU(inplace=True)\n",
    "        self.Wv2 = nn.Conv2d(in_channels=c//2, out_channels=c, kernel_size=1, stride=1)\n",
    "\n",
    "    def forward(self, x):\n",
    "        b, c, h, w = x.size()\n",
    "        x1 = self.Wk(x) # b, 1, H, W\n",
    "        x1 = x1.view(b, 1, h*w) # b, 1, w*h\n",
    "        x1 = x1.unsqueeze(1).permute(0, 3, 1, 2) # b, h*w, 1, 1\n",
    "        x1 = self.softmax2d(x1)\n",
    "        x1 = x1.view(b, h*w, 1) # b, h*w, 1\n",
    "        x_ = x.view(b, c, h*w) # b, c, h*w\n",
    "        # print(x_.shape, x1.shape)\n",
    "        y1 = torch.matmul(x_, x1, ).view(b, c, 1, 1) #b, c, 1, 1\n",
    "\n",
    "        x2 = self.Wv1(y1) # b, c//2, 1, 1\n",
    "        x2 = self.layer_norm(x2) # b, c//2, 1, 1 \n",
    "        x2 = self.relu(x2) # b, c//2, 1, 1\n",
    "        x2 = self.Wv2(x2) # b, c, 1, 1\n",
    "\n",
    "        output = x + x2 # b, c, w, h\n",
    "        return output"
   ]
  },
  {
   "cell_type": "code",
   "execution_count": null,
   "metadata": {},
   "outputs": [],
   "source": [
    "model = GcBlock(c=3).to(device)\n",
    "output = model(image)"
   ]
  }
 ],
 "metadata": {
  "kernelspec": {
   "display_name": "py310",
   "language": "python",
   "name": "python3"
  },
  "language_info": {
   "codemirror_mode": {
    "name": "ipython",
    "version": 3
   },
   "file_extension": ".py",
   "mimetype": "text/x-python",
   "name": "python",
   "nbconvert_exporter": "python",
   "pygments_lexer": "ipython3",
   "version": "3.10.10"
  },
  "orig_nbformat": 4
 },
 "nbformat": 4,
 "nbformat_minor": 2
}
